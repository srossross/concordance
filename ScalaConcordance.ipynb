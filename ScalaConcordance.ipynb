{
 "cells": [
  {
   "cell_type": "code",
   "execution_count": 151,
   "metadata": {
    "collapsed": false
   },
   "outputs": [
    {
     "data": {
      "text/plain": [
       "\u001b[32mimport \u001b[36mscala.collection.mutable\u001b[0m\n",
       "\u001b[36mdata\u001b[0m: \u001b[32mString\u001b[0m = \u001b[32m\"\"\"\n",
       "\n",
       "A \"concordance\" is an alphabetical list of the words present in a text with a count of how\n",
       "often each word appears and citations of where each word appears in the text (e.g., page\n",
       "number). Write a program -- in the programming language of your choice -- that will\n",
       "generate a concordance of an arbitrary text document written in English: the text can be\n",
       "read from stdin, and the program should output the concordance to stdout or a file. For\n",
       "each word, it should print the count and the sorted list of citations, in this case the\n",
       "zero-indexed sentence number in which that word occurs. You may assume that the input\n",
       "contains only spaces, newlines, standard English letters, and standard English punctuation\n",
       "marks.\n",
       "\n",
       "\"\"\"\u001b[0m"
      ]
     },
     "metadata": {},
     "output_type": "display_data"
    }
   ],
   "source": [
    "import scala.collection.mutable\n",
    "\n",
    "val data = \"\"\"\n",
    "A \"concordance\" is an alphabetical list of the words present in a text with a count of how\n",
    "often each word appears and citations of where each word appears in the text (e.g., page\n",
    "number). Write a program -- in the programming language of your choice -- that will\n",
    "generate a concordance of an arbitrary text document written in English: the text can be\n",
    "read from stdin, and the program should output the concordance to stdout or a file. For\n",
    "each word, it should print the count and the sorted list of citations, in this case the\n",
    "zero-indexed sentence number in which that word occurs. You may assume that the input\n",
    "contains only spaces, newlines, standard English letters, and standard English punctuation\n",
    "marks.\n",
    "\"\"\""
   ]
  },
  {
   "cell_type": "code",
   "execution_count": 167,
   "metadata": {
    "collapsed": false
   },
   "outputs": [
    {
     "data": {
      "text/plain": [
       "\u001b[36minvalid_chars\u001b[0m: \u001b[32mutil\u001b[0m.\u001b[32mmatching\u001b[0m.\u001b[32mRegex\u001b[0m = [^\\w'.]\n",
       "\u001b[36msentence_sep\u001b[0m: \u001b[32mutil\u001b[0m.\u001b[32mmatching\u001b[0m.\u001b[32mRegex\u001b[0m = \\. "
      ]
     },
     "metadata": {},
     "output_type": "display_data"
    }
   ],
   "source": [
    "// Regex to remove invalid chars from the text\n",
    "val invalid_chars = \"\"\"[^\\w'.]\"\"\".r\n",
    "\n",
    "// Split into sections\n",
    "val sentence_sep = \"\"\"\\. \"\"\".r"
   ]
  },
  {
   "cell_type": "code",
   "execution_count": 168,
   "metadata": {
    "collapsed": false
   },
   "outputs": [
    {
     "data": {
      "text/plain": [
       "defined \u001b[32mtype \u001b[36mListOfLists\u001b[0m\n",
       "defined \u001b[32mfunction \u001b[36msplit_into_words_initial\u001b[0m\n",
       "\u001b[36mres122_2\u001b[0m: \u001b[32mListOfLists\u001b[0m = \u001b[33mArray\u001b[0m(\n",
       "  \u001b[33mArray\u001b[0m(\n",
       "    \u001b[32m\"a\"\u001b[0m,\n",
       "    \u001b[32m\"concordance\"\u001b[0m,\n",
       "    \u001b[32m\"is\"\u001b[0m,\n",
       "    \u001b[32m\"an\"\u001b[0m,\n",
       "    \u001b[32m\"alphabetical\"\u001b[0m,\n",
       "    \u001b[32m\"list\"\u001b[0m,\n",
       "    \u001b[32m\"of\"\u001b[0m,\n",
       "    \u001b[32m\"the\"\u001b[0m,\n",
       "    \u001b[32m\"words\"\u001b[0m,\n",
       "    \u001b[32m\"present\"\u001b[0m,\n",
       "    \u001b[32m\"in\"\u001b[0m,\n",
       "    \u001b[32m\"a\"\u001b[0m,\n",
       "    \u001b[32m\"text\"\u001b[0m,\n",
       "\u001b[33m...\u001b[0m"
      ]
     },
     "metadata": {},
     "output_type": "display_data"
    }
   ],
   "source": [
    "type ListOfLists = Array[Array[String]]\n",
    "\n",
    "/**\n",
    "The result of this function will be a list of lists [ [word, ...], ... ]\n",
    "The outer list will contain the 'sections' and each section will contain a list of words\n",
    "*/\n",
    "def split_into_words_initial(input: String): ListOfLists = {\n",
    "    \n",
    "    return sentence_sep.split(input.toLowerCase).map( { x => \n",
    "        invalid_chars\n",
    "          .replaceAllIn(x,\" \")\n",
    "          .split(\" +\")\n",
    "          .map(_.trim) \n",
    "          .filter(_ != \"\")\n",
    "    })\n",
    "\n",
    "}\n",
    "\n",
    "split_into_words_initial(data)"
   ]
  },
  {
   "cell_type": "code",
   "execution_count": 170,
   "metadata": {
    "collapsed": false
   },
   "outputs": [
    {
     "data": {
      "text/plain": [
       "defined \u001b[32mtype \u001b[36mMapOfLists\u001b[0m\n",
       "defined \u001b[32mfunction \u001b[36mconcordance\u001b[0m\n",
       "\u001b[36mconcordance_result\u001b[0m: \u001b[32mMapOfLists\u001b[0m = \u001b[33mMap\u001b[0m(\n",
       "  \u001b[32m\"marks.\"\u001b[0m -> \u001b[33mArrayBuffer\u001b[0m(\u001b[32m3\u001b[0m),\n",
       "  \u001b[32m\"count\"\u001b[0m -> \u001b[33mArrayBuffer\u001b[0m(\u001b[32m0\u001b[0m, \u001b[32m2\u001b[0m),\n",
       "  \u001b[32m\"text\"\u001b[0m -> \u001b[33mArrayBuffer\u001b[0m(\u001b[32m0\u001b[0m, \u001b[32m0\u001b[0m, \u001b[32m1\u001b[0m, \u001b[32m1\u001b[0m),\n",
       "  \u001b[32m\"is\"\u001b[0m -> \u001b[33mArrayBuffer\u001b[0m(\u001b[32m0\u001b[0m),\n",
       "  \u001b[32m\"standard\"\u001b[0m -> \u001b[33mArrayBuffer\u001b[0m(\u001b[32m3\u001b[0m, \u001b[32m3\u001b[0m),\n",
       "  \u001b[32m\"can\"\u001b[0m -> \u001b[33mArrayBuffer\u001b[0m(\u001b[32m1\u001b[0m),\n",
       "  \u001b[32m\"newlines\"\u001b[0m -> \u001b[33mArrayBuffer\u001b[0m(\u001b[32m3\u001b[0m),\n",
       "  \u001b[32m\"of\"\u001b[0m -> \u001b[33mArrayBuffer\u001b[0m(\u001b[32m0\u001b[0m, \u001b[32m0\u001b[0m, \u001b[32m0\u001b[0m, \u001b[32m1\u001b[0m, \u001b[32m1\u001b[0m, \u001b[32m2\u001b[0m),\n",
       "  \u001b[32m\"input\"\u001b[0m -> \u001b[33mArrayBuffer\u001b[0m(\u001b[32m3\u001b[0m),\n",
       "  \u001b[32m\"concordance\"\u001b[0m -> \u001b[33mArrayBuffer\u001b[0m(\u001b[32m0\u001b[0m, \u001b[32m1\u001b[0m, \u001b[32m1\u001b[0m),\n",
       "  \u001b[32m\"programming\"\u001b[0m -> \u001b[33mArrayBuffer\u001b[0m(\u001b[32m1\u001b[0m),\n",
       "  \u001b[32m\"written\"\u001b[0m -> \u001b[33mArrayBuffer\u001b[0m(\u001b[32m1\u001b[0m),\n",
       "  \u001b[32m\"you\"\u001b[0m -> \u001b[33mArrayBuffer\u001b[0m(\u001b[32m3\u001b[0m),\n",
       "\u001b[33m...\u001b[0m"
      ]
     },
     "metadata": {},
     "output_type": "display_data"
    }
   ],
   "source": [
    "type MapOfLists = HashMap[String, mutable.ArrayBuffer[Int]]\n",
    "\n",
    "/**\n",
    "Count of how often each word appears and citations of where each word appears in the text\n",
    "    \n",
    ":param input: a text\n",
    ":returns: a data structure of {word: [section_num, ... ] }\n",
    "*/\n",
    "def concordance(input: String): MapOfLists = {\n",
    "    \n",
    "    // Create an empty result value\n",
    "    var result = new MapOfLists()\n",
    "    \n",
    "    val sections = split_into_words_initial(input)\n",
    "    \n",
    "    // Loop over section and its index\n",
    "    for ((section, section_num) <- sections.zipWithIndex) {\n",
    "\n",
    "        // Loop over the words in a section\n",
    "        for (word <- section) {\n",
    "\n",
    "            // Get the record of which sections the word is in\n",
    "            var word_record = result.getOrElseUpdate(word, mutable.ArrayBuffer.empty[Int])\n",
    "            // Append the current section to the array\n",
    "            word_record += section_num\n",
    "        }\n",
    "    }        \n",
    "    return result\n",
    "}\n",
    "\n",
    "val concordance_result = concordance(data)"
   ]
  },
  {
   "cell_type": "code",
   "execution_count": 172,
   "metadata": {
    "collapsed": false
   },
   "outputs": [
    {
     "name": "stdout",
     "output_type": "stream",
     "text": [
      "a               - {6:0,0,0,1,1,1}\n",
      "alphabetical    - {1:0}\n",
      "an              - {2:0,1}\n",
      "and             - {4:0,1,2,3}\n",
      "appears         - {2:0,0}\n",
      "arbitrary       - {1:1}\n",
      "assume          - {1:3}\n",
      "be              - {1:1}\n",
      "can             - {1:1}\n",
      "case            - {1:2}\n",
      "choice          - {1:1}\n",
      "citations       - {2:0,2}\n",
      "concordance     - {3:0,1,1}\n",
      "contains        - {1:3}\n",
      "count           - {2:0,2}\n",
      "document        - {1:1}\n",
      "e.g.            - {1:0}\n",
      "each            - {3:0,0,2}\n",
      "english         - {3:1,3,3}\n",
      "file            - {1:1}\n",
      "for             - {1:2}\n",
      "from            - {1:1}\n",
      "generate        - {1:1}\n",
      "how             - {1:0}\n",
      "in              - {6:0,0,1,1,2,2}\n",
      "indexed         - {1:2}\n",
      "input           - {1:3}\n",
      "is              - {1:0}\n",
      "it              - {1:2}\n",
      "language        - {1:1}\n",
      "letters         - {1:3}\n",
      "list            - {2:0,2}\n",
      "marks.          - {1:3}\n",
      "may             - {1:3}\n",
      "newlines        - {1:3}\n",
      "number          - {2:0,2}\n",
      "occurs          - {1:2}\n",
      "of              - {6:0,0,0,1,1,2}\n",
      "often           - {1:0}\n",
      "only            - {1:3}\n",
      "or              - {1:1}\n",
      "output          - {1:1}\n",
      "page            - {1:0}\n",
      "present         - {1:0}\n",
      "print           - {1:2}\n",
      "program         - {2:1,1}\n",
      "programming     - {1:1}\n",
      "punctuation     - {1:3}\n",
      "read            - {1:1}\n",
      "sentence        - {1:2}\n",
      "should          - {2:1,2}\n",
      "sorted          - {1:2}\n",
      "spaces          - {1:3}\n",
      "standard        - {2:3,3}\n",
      "stdin           - {1:1}\n",
      "stdout          - {1:1}\n",
      "text            - {4:0,0,1,1}\n",
      "that            - {3:1,2,3}\n",
      "the             - {10:0,0,1,1,1,1,2,2,2,3}\n",
      "this            - {1:2}\n",
      "to              - {1:1}\n",
      "where           - {1:0}\n",
      "which           - {1:2}\n",
      "will            - {1:1}\n",
      "with            - {1:0}\n",
      "word            - {4:0,0,2,2}\n",
      "words           - {1:0}\n",
      "write           - {1:1}\n",
      "written         - {1:1}\n",
      "you             - {1:3}\n",
      "your            - {1:1}\n",
      "zero            - {1:2}\n"
     ]
    },
    {
     "data": {
      "text/plain": [
       "defined \u001b[32mfunction \u001b[36mprinter\u001b[0m"
      ]
     },
     "metadata": {},
     "output_type": "display_data"
    }
   ],
   "source": [
    "/**\n",
    "Print the result of the concordance function to stdout. \n",
    "\n",
    ":param result: result of the concordance function\n",
    "*/\n",
    "def printer(result: MapOfLists) = {\n",
    "    for((word, record) <- result.toSeq.sortBy(_._1)) {\n",
    "        val total_occurrences = record.length\n",
    "        val sentence_numbers = record mkString  \",\"\n",
    "        println(f\"$word%-15s - {$total_occurrences:$sentence_numbers}\")\n",
    "    }\n",
    "}\n",
    "\n",
    "printer(concordance_result)\n"
   ]
  },
  {
   "cell_type": "code",
   "execution_count": null,
   "metadata": {
    "collapsed": true
   },
   "outputs": [],
   "source": []
  }
 ],
 "metadata": {
  "kernelspec": {
   "display_name": "Scala 2.11",
   "language": "scala211",
   "name": "scala211"
  },
  "language_info": {
   "codemirror_mode": "text/x-scala",
   "file_extension": ".scala",
   "mimetype": "text/x-scala",
   "name": "scala211",
   "pygments_lexer": "scala",
   "version": "2.11.6"
  }
 },
 "nbformat": 4,
 "nbformat_minor": 0
}
