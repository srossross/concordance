{
 "cells": [
  {
   "cell_type": "code",
   "execution_count": 1,
   "metadata": {
    "collapsed": true
   },
   "outputs": [],
   "source": [
    "data = \"\"\"\n",
    "A \"concordance\" is an alphabetical list of the words present in a text with a count of how\n",
    "often each word appears and citations of where each word appears in the text (e.g., page\n",
    "number). Write a program -- in the programming language of your choice -- that will\n",
    "generate a concordance of an arbitrary text document written in English: the text can be\n",
    "read from stdin, and the program should output the concordance to stdout or a file. For\n",
    "each word, it should print the count and the sorted list of citations, in this case the\n",
    "zero-indexed sentence number in which that word occurs. You may assume that the input\n",
    "contains only spaces, newlines, standard English letters, and standard English punctuation\n",
    "marks.\n",
    "\"\"\""
   ]
  },
  {
   "cell_type": "code",
   "execution_count": null,
   "metadata": {
    "collapsed": true
   },
   "outputs": [],
   "source": []
  }
 ],
 "metadata": {
  "kernelspec": {
   "display_name": "Python 3",
   "language": "python",
   "name": "python3"
  },
  "language_info": {
   "codemirror_mode": {
    "name": "ipython",
    "version": 3
   },
   "file_extension": ".py",
   "mimetype": "text/x-python",
   "name": "python",
   "nbconvert_exporter": "python",
   "pygments_lexer": "ipython3",
   "version": "3.5.2"
  }
 },
 "nbformat": 4,
 "nbformat_minor": 1
}
