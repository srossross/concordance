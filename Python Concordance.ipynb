{
 "cells": [
  {
   "cell_type": "code",
   "execution_count": 18,
   "metadata": {
    "collapsed": true
   },
   "outputs": [],
   "source": [
    "data = \"\"\"\n",
    "A \"concordance\" is an alphabetical list of the words present in a text with a count of how\n",
    "often each word appears and citations of where each word appears in the text (e.g., page\n",
    "number). Write a program -- in the programming language of your choice -- that will\n",
    "generate a concordance of an arbitrary text document written in English: the text can be\n",
    "read from stdin, and the program should output the concordance to stdout or a file. For\n",
    "each word, it should print the count and the sorted list of citations, in this case the\n",
    "zero-indexed sentence number in which that word occurs. You may assume that the input\n",
    "contains only spaces, newlines, standard English letters, and standard English punctuation\n",
    "marks.\n",
    "\"\"\""
   ]
  },
  {
   "cell_type": "code",
   "execution_count": 37,
   "metadata": {
    "collapsed": true
   },
   "outputs": [],
   "source": [
    "def split_into_words_initial(input, sections='.'):\n",
    "    \"\"\"\n",
    "    OK, starting here. The first thing that comes to mind is \n",
    "    it may be necessary to use an existing library to split into word eg special characters \n",
    "    root words ect...\n",
    "    \n",
    "    This is my first pass so I will do a string.split\n",
    "    The result of this should be a list of lists [ [word, ...], ... ]\n",
    "    The outer list will contain the 'sections' and each section will contain\n",
    "    a list of words\n",
    "    \n",
    "    :param sections: how to split the text into sections\n",
    "    \n",
    "    \n",
    "    \"\"\"\n",
    "    \n",
    "    # The first thing that I see is that there is a lot of puntuation,\n",
    "    # I will work on removing that in the second iteration\n",
    "    return [section.split() for section in input.lower().split(sections)]\n",
    "    "
   ]
  },
  {
   "cell_type": "code",
   "execution_count": 34,
   "metadata": {
    "collapsed": false
   },
   "outputs": [],
   "source": [
    "def concordance(input):\n",
    "    \"\"\"\n",
    "    Run the concordance function\n",
    "    \n",
    "    :param input: a text\n",
    "    \"\"\"\n",
    "    # Initial thought is that result can be a dict of {word: {section: count, ...}, ... }\n",
    "    result = {}\n",
    "    \n",
    "    # Loop over the sections\n",
    "    for section_num, section in enumerate(split_into_words_initial(input)):\n",
    "        for word in section:\n",
    "            result.setdefault(word, {}).setdefault(section_num, 0)\n",
    "            result[word][section_num] += 1\n",
    "            \n",
    "\n",
    "    return result\n",
    "        \n",
    "concordance_result = concordance(data)\n",
    "\n",
    "# print(concordance_result)\n",
    "# OK, this looks right lets store this an format this for printing"
   ]
  },
  {
   "cell_type": "code",
   "execution_count": 46,
   "metadata": {
    "collapsed": false
   },
   "outputs": [
    {
     "name": "stdout",
     "output_type": "stream",
     "text": [
      "\"concordance\"   - {1:{0: 1}}\n",
      "(e              - {1:{0: 1}}\n",
      ",               - {1:{2: 1}}\n",
      "--              - {2:{3: 2}}\n",
      "a               - {6:{0: 3, 3: 3}}\n",
      "alphabetical    - {1:{0: 1}}\n",
      "an              - {2:{0: 1, 3: 1}}\n",
      "and             - {4:{0: 1, 3: 1, 4: 1, 5: 1}}\n",
      "appears         - {2:{0: 2}}\n",
      "arbitrary       - {1:{3: 1}}\n",
      "assume          - {1:{5: 1}}\n",
      "be              - {1:{3: 1}}\n",
      "can             - {1:{3: 1}}\n",
      "case            - {1:{4: 1}}\n",
      "choice          - {1:{3: 1}}\n",
      "citations       - {1:{0: 1}}\n",
      "citations,      - {1:{4: 1}}\n",
      "concordance     - {2:{3: 2}}\n",
      "contains        - {1:{5: 1}}\n",
      "count           - {2:{0: 1, 4: 1}}\n",
      "document        - {1:{3: 1}}\n",
      "each            - {3:{0: 2, 4: 1}}\n",
      "english         - {2:{5: 2}}\n",
      "english:        - {1:{3: 1}}\n",
      "file            - {1:{3: 1}}\n",
      "for             - {1:{4: 1}}\n",
      "from            - {1:{3: 1}}\n",
      "g               - {1:{1: 1}}\n",
      "generate        - {1:{3: 1}}\n",
      "how             - {1:{0: 1}}\n",
      "in              - {6:{0: 2, 3: 2, 4: 2}}\n",
      "input           - {1:{5: 1}}\n",
      "is              - {1:{0: 1}}\n",
      "it              - {1:{4: 1}}\n",
      "language        - {1:{3: 1}}\n",
      "letters,        - {1:{5: 1}}\n",
      "list            - {2:{0: 1, 4: 1}}\n",
      "marks           - {1:{5: 1}}\n",
      "may             - {1:{5: 1}}\n",
      "newlines,       - {1:{5: 1}}\n",
      "number          - {1:{4: 1}}\n",
      "number)         - {1:{2: 1}}\n",
      "occurs          - {1:{4: 1}}\n",
      "of              - {6:{0: 3, 3: 2, 4: 1}}\n",
      "often           - {1:{0: 1}}\n",
      "only            - {1:{5: 1}}\n",
      "or              - {1:{3: 1}}\n",
      "output          - {1:{3: 1}}\n",
      "page            - {1:{2: 1}}\n",
      "present         - {1:{0: 1}}\n",
      "print           - {1:{4: 1}}\n",
      "program         - {2:{3: 2}}\n",
      "programming     - {1:{3: 1}}\n",
      "punctuation     - {1:{5: 1}}\n",
      "read            - {1:{3: 1}}\n",
      "sentence        - {1:{4: 1}}\n",
      "should          - {2:{3: 1, 4: 1}}\n",
      "sorted          - {1:{4: 1}}\n",
      "spaces,         - {1:{5: 1}}\n",
      "standard        - {2:{5: 2}}\n",
      "stdin,          - {1:{3: 1}}\n",
      "stdout          - {1:{3: 1}}\n",
      "text            - {4:{0: 2, 3: 2}}\n",
      "that            - {3:{3: 1, 4: 1, 5: 1}}\n",
      "the             - {10:{0: 2, 3: 4, 4: 3, 5: 1}}\n",
      "this            - {1:{4: 1}}\n",
      "to              - {1:{3: 1}}\n",
      "where           - {1:{0: 1}}\n",
      "which           - {1:{4: 1}}\n",
      "will            - {1:{3: 1}}\n",
      "with            - {1:{0: 1}}\n",
      "word            - {3:{0: 2, 4: 1}}\n",
      "word,           - {1:{4: 1}}\n",
      "words           - {1:{0: 1}}\n",
      "write           - {1:{3: 1}}\n",
      "written         - {1:{3: 1}}\n",
      "you             - {1:{5: 1}}\n",
      "your            - {1:{3: 1}}\n",
      "zero-indexed    - {1:{4: 1}}\n"
     ]
    }
   ],
   "source": [
    "\n",
    "def printer(result):\n",
    "    \"\"\"\n",
    "    Going to want to structure the output. \n",
    "    \"\"\"\n",
    "    for word in sorted(result):\n",
    "        concordance = result[word]\n",
    "        total_occurrences = sum(concordance.values())\n",
    "        sentence_numbers\n",
    "        print(\"{:15} - {{{}:{}}}\".format(word, total_occurrences, result[word]))\n",
    "    \n",
    "#     print(sorted(result))\n",
    "\n",
    "printer(concordance_result)\n"
   ]
  },
  {
   "cell_type": "code",
   "execution_count": null,
   "metadata": {
    "collapsed": true
   },
   "outputs": [],
   "source": []
  }
 ],
 "metadata": {
  "kernelspec": {
   "display_name": "Python 3",
   "language": "python",
   "name": "python3"
  },
  "language_info": {
   "codemirror_mode": {
    "name": "ipython",
    "version": 3
   },
   "file_extension": ".py",
   "mimetype": "text/x-python",
   "name": "python",
   "nbconvert_exporter": "python",
   "pygments_lexer": "ipython3",
   "version": "3.5.2"
  }
 },
 "nbformat": 4,
 "nbformat_minor": 1
}
